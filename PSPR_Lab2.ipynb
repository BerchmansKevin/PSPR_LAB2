{
 "cells": [
  {
   "cell_type": "markdown",
   "id": "4a546d7b",
   "metadata": {},
   "source": [
    "# Problem Solving Using Python and R Lab \n",
    "\n",
    "\n",
    "## Lab-2  `Python Loops` \n",
    "\n",
    "\n",
    "# Name     : `Berchmans Kevin S`\n"
   ]
  },
  {
   "cell_type": "markdown",
   "id": "92a4ecde",
   "metadata": {},
   "source": [
    "### Question1. Write a program that accepts numbers continuously as long as the number is positive and prints the sum of the numbers read (Use while loop). "
   ]
  },
  {
   "cell_type": "code",
   "execution_count": 1,
   "id": "9e8e4b8b",
   "metadata": {},
   "outputs": [
    {
     "name": "stdout",
     "output_type": "stream",
     "text": [
      "Enter the number:7\n",
      "Enter the number:9\n",
      "Enter the number:55\n",
      "Enter the number:879\n",
      "Enter the number:8906\n",
      "Enter the number:23\n",
      "Enter the number:77777\n",
      "Enter the number:12\n",
      "Enter the number:098\n",
      "Enter the number:3\n",
      "Enter the number:0\n",
      "Sum 87769\n"
     ]
    }
   ],
   "source": [
    "Sum=0\n",
    "while True:\n",
    "    r=int(input(\"Enter the number:\"))\n",
    "    if r>0:\n",
    "        Sum+=r\n",
    "        \n",
    "    else:\n",
    "        r<=0\n",
    "        print(\"Sum\", Sum)\n",
    "        break\n",
    "            "
   ]
  },
  {
   "cell_type": "markdown",
   "id": "3e2228c3",
   "metadata": {},
   "source": [
    "### Question 2. Write a program to take the values of two integers m and n from the user. Calculate the sum of even number between m and n (including both m and n). \n",
    "Please note that value of m must be less than value of n.\n",
    "\n",
    "If m > n. then you must print a message “Value of m should be less than n” and ask for next input values. \n",
    "\n",
    "Print the values of m, n and sum. (Use while loop). \n",
    "\n",
    "The program should continue until user types ‘q’ to quit the program. "
   ]
  },
  {
   "cell_type": "code",
   "execution_count": 2,
   "id": "3881683d",
   "metadata": {},
   "outputs": [
    {
     "name": "stdout",
     "output_type": "stream",
     "text": [
      "Enter the start  7\n",
      "Enter the limit  7\n",
      "I want to quit 4\n",
      "I want to quit q\n"
     ]
    }
   ],
   "source": [
    "m=int(input(\"Enter the start  \"))\n",
    "n=int(input(\"Enter the limit  \"))\n",
    "sum=0   \n",
    "while m<n:\n",
    "     if m%2==0:\n",
    "        sum=sum+m\n",
    "     m=m+1\n",
    "     print(\"\")\n",
    "     \n",
    "     print(\"sum of even number \", sum)\n",
    "     print(\"Value of m should be less than n \")\n",
    "while True:\n",
    "    q=input(\"I want to quit \")\n",
    "    if q=='q':\n",
    "        break"
   ]
  },
  {
   "cell_type": "markdown",
   "id": "b62f0cf2",
   "metadata": {},
   "source": [
    "### Question3. Write a program to accept n and display its multiplication table. Value of n must be provided by the user.  (Use for loop)"
   ]
  },
  {
   "cell_type": "code",
   "execution_count": 3,
   "id": "e0d58b05",
   "metadata": {},
   "outputs": [
    {
     "name": "stdout",
     "output_type": "stream",
     "text": [
      "Enter a value:7\n",
      "7 * 1 = 7\n",
      "7 * 2 = 14\n",
      "7 * 3 = 21\n",
      "7 * 4 = 28\n",
      "7 * 5 = 35\n",
      "7 * 6 = 42\n",
      "7 * 7 = 49\n",
      "7 * 8 = 56\n",
      "7 * 9 = 63\n",
      "7 * 10 = 70\n"
     ]
    }
   ],
   "source": [
    "n=int(input(\"Enter a value:\"))\n",
    "for i in range(1,11):\n",
    "    print(n,\"*\",i,\"=\",i*n)"
   ]
  },
  {
   "cell_type": "markdown",
   "id": "d955490c",
   "metadata": {},
   "source": [
    "### Question4. Write a program that receives an integer and prints the sum of its digits.  \n"
   ]
  },
  {
   "cell_type": "code",
   "execution_count": 4,
   "id": "8d3b919b",
   "metadata": {},
   "outputs": [
    {
     "name": "stdout",
     "output_type": "stream",
     "text": [
      "Enter an integer: 345678\n",
      "Total sum of digits: 33\n"
     ]
    }
   ],
   "source": [
    "num=int(input(\"Enter an integer: \"))\n",
    "result=0\n",
    "while (num>0):\n",
    "    digit = num % 10\n",
    "    result = result + digit\n",
    "    num = num // 10\n",
    "    \n",
    "print(\"Total sum of digits:\",result)"
   ]
  },
  {
   "cell_type": "markdown",
   "id": "76828902",
   "metadata": {},
   "source": [
    "### Question5. Develop an application in Python that repeatedly reads numbers until the user enters done. Once done is entered, print out the total, count, and average of the numbers. If the user enters anything other than a number, detect their mistake using try and except and print an error message and skip to the next number. "
   ]
  },
  {
   "cell_type": "code",
   "execution_count": 5,
   "id": "2f67f341",
   "metadata": {},
   "outputs": [
    {
     "name": "stdout",
     "output_type": "stream",
     "text": [
      "Enter a number: 29\n",
      "Enter a number: 2000\n",
      "Enter a number: 67\n",
      "Enter a number: 84\n",
      "Enter a number: 22\n",
      "Enter a number: 3\n",
      "Enter a number: 7\n",
      "Enter a number: 9\n",
      "Enter a number: 568900\n",
      "Enter a number: 087356\n",
      "Enter a number: 79956\n",
      "Enter a number: 40\n",
      "Enter a number: s\n",
      "Invalid Input\n",
      "Enter a number: 777\n",
      "Enter a number: 97\n",
      "Enter a number: 22\n",
      "Enter a number: 23\n",
      "Enter a number: 56\n",
      "Enter a number: 23\n",
      "Enter a number: j\n",
      "Invalid Input\n",
      "Enter a number: done\n",
      "Done\n",
      "Total: 739471.0\n",
      "Count: 18\n",
      "Average: 32150.91304347826\n"
     ]
    }
   ],
   "source": [
    "n=0\n",
    "t=0.0\n",
    "while True:\n",
    "    number=input(\"Enter a number: \")\n",
    "    if number==\"done\":\n",
    "        break\n",
    "    try:\n",
    "        n1=float(number)\n",
    "    except:\n",
    "            print('Invalid Input')\n",
    "            continue\n",
    "    n=n+1\n",
    "    t=t+n1     \n",
    "print(\"Done\")\n",
    "print(\"Total:\", t)\n",
    "print(\"Count:\", n)\n",
    "print(\"Average:\", t/n1) "
   ]
  },
  {
   "cell_type": "code",
   "execution_count": null,
   "id": "a0f5f4b9",
   "metadata": {},
   "outputs": [],
   "source": []
  }
 ],
 "metadata": {
  "kernelspec": {
   "display_name": "Python 3",
   "language": "python",
   "name": "python3"
  },
  "language_info": {
   "codemirror_mode": {
    "name": "ipython",
    "version": 3
   },
   "file_extension": ".py",
   "mimetype": "text/x-python",
   "name": "python",
   "nbconvert_exporter": "python",
   "pygments_lexer": "ipython3",
   "version": "3.8.8"
  }
 },
 "nbformat": 4,
 "nbformat_minor": 5
}
